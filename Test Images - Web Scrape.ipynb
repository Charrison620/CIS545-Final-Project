{
 "cells": [
  {
   "cell_type": "code",
   "execution_count": 222,
   "metadata": {},
   "outputs": [],
   "source": [
    "from PIL import Image\n",
    "import requests\n",
    "import bs4\n",
    "import os\n",
    "\n",
    "\n",
    "label_desc = {0:'T-shirt/top', \n",
    "              1:'Trouser', \n",
    "              2:'Pullover', \n",
    "              3:'Dress', \n",
    "              4:'Coat', \n",
    "              5:'Sandal', \n",
    "              6:'Shirt', \n",
    "              7:'Sneaker', \n",
    "              8:'Bag', \n",
    "              9:'Ankle boot'}\n",
    "\n",
    "\n",
    "def make_soup(url, *product_category):\n",
    "    response = requests.get(f\"{url}{product_category}\")\n",
    "    return bs4.BeautifulSoup(response.text, 'html.parser')"
   ]
  },
  {
   "cell_type": "markdown",
   "metadata": {},
   "source": [
    "## JCrew"
   ]
  },
  {
   "cell_type": "code",
   "execution_count": 33,
   "metadata": {},
   "outputs": [],
   "source": [
    "def pull_jcrew_images(url, product_category, folder_name, show=False):\n",
    "    file_path = \"./final_project/\"\n",
    "    base_path = file_path + folder_name + \"/\"\n",
    "    category_path = os.path.join(base_path, f'{product_category}')\n",
    "    os.makedirs(category_path, exist_ok=True)\n",
    "    \n",
    "    soup = bmake_soup(url, product_category)\n",
    "    \n",
    "    links = []\n",
    "    for link in soup.find_all('a', href=True):\n",
    "        if str(link.get('href'))[:3] == \"/p/\":\n",
    "            links.append(str(link.get('href')))\n",
    "    links = list(set(links))\n",
    "\n",
    "    for i in links:\n",
    "        response = requests.get(\"https://www.jcrew.com/p\" + i[2:])\n",
    "        soup = bs4.BeautifulSoup(response.text, 'html.parser')\n",
    "        image = soup.find_all('img')\n",
    "        image_url = image[0]['src']\n",
    "        img = Image.open(requests.get(image_url, stream = True).raw)\n",
    "        product_name = get_jcrew_product_name_id(i)\n",
    "        if show:\n",
    "            print(product_name)\n",
    "            display(img)\n",
    "        try:\n",
    "            img.save(f'{category_path}/{product_name}.jpg')\n",
    "        except:\n",
    "            print('x')\n",
    "            continue\n",
    "            \n",
    "            \n",
    "def get_jcrew_product_name_id(link):\n",
    "    lst = link.split(\"/\")\n",
    "    try:\n",
    "        for i in lst:\n",
    "            if \"?\" in i:\n",
    "                index = lst.index(i)\n",
    "    except:\n",
    "        index = -1\n",
    "    return lst[index-1]\n",
    "\n"
   ]
  },
  {
   "cell_type": "code",
   "execution_count": 29,
   "metadata": {},
   "outputs": [],
   "source": [
    "url = \"https://www.jcrew.com/c/mens_category/\"\n",
    "folder_name = \"JCrew_Mens\"\n",
    "\n",
    "men_product_categories = ['coats_and_jackets', \n",
    "                          'shirts', \n",
    "                          'shoes_sneakers/sneakers', \n",
    "                          'sweaters', \n",
    "                          'tshirts', \n",
    "                          'pants', \n",
    "                          'shoes_sneakers/boots', \n",
    "                          'shoes_sneakers/sandalsflipflops']\n",
    "\n",
    "for cat in men_product_categories:\n",
    "    pull_jcrew_images(url, cat, folder_name)"
   ]
  },
  {
   "cell_type": "code",
   "execution_count": 14,
   "metadata": {},
   "outputs": [],
   "source": [
    "url = \"https://www.jcrew.com/c/womens_category/\"\n",
    "folder_name = \"JCrew_Womens\"\n",
    "\n",
    "women_product_categories = [\"coats_and_jackets\", \n",
    "                            \"dressesandjumpsuits\", \n",
    "                            \"shirts_tops\", \n",
    "                            \"handbags\", \n",
    "                            \"shoes/sneakers\", \n",
    "                           \"pants\",\n",
    "                           \"shoes/sandals\", \n",
    "                           \"tshirts_tanktops\", \n",
    "                           \"sweaters\",\n",
    "                           \"shoes/boots\"]\n",
    "\n",
    "for cat in women_product_categories:\n",
    "    pull_jcrew_images(url, cat, folder_name)"
   ]
  },
  {
   "cell_type": "markdown",
   "metadata": {},
   "source": [
    "## Madewell"
   ]
  },
  {
   "cell_type": "code",
   "execution_count": 34,
   "metadata": {},
   "outputs": [],
   "source": [
    "def pull_madewell_images(url, product_category, folder_name, show=False):\n",
    "    file_path = \"./final_project/\"\n",
    "    base_path = file_path + folder_name + \"/\"\n",
    "    category_path = os.path.join(base_path, f'{product_category}')\n",
    "    os.makedirs(category_path, exist_ok=True)\n",
    "    \n",
    "    response = requests.get(f\"{url}{product_category}\")\n",
    "    soup = bs4.BeautifulSoup(response.text, 'html.parser')\n",
    "\n",
    "\n",
    "    links = []\n",
    "    for i in soup.find_all(\"img\"):\n",
    "        if \"image\" in str(i.get(\"data-src\")):\n",
    "            links.append(i.get(\"data-src\"))\n",
    "\n",
    "    for i in links:\n",
    "        img = Image.open(requests.get(i, stream = True).raw)\n",
    "        product_name = get_madewell_product_name_id(i)\n",
    "        if show:\n",
    "            print(product_name)\n",
    "            display(img)\n",
    "        try:\n",
    "            img.save(f'{category_path}/{product_name}.jpg')\n",
    "        except:\n",
    "            print('x')\n",
    "            continue\n",
    "            \n",
    "            \n",
    "def get_madewell_product_name_id(link):\n",
    "    return link[:link.index(\"?\")].split(\"/\")[-1]\n",
    "\n"
   ]
  },
  {
   "cell_type": "code",
   "execution_count": 35,
   "metadata": {},
   "outputs": [
    {
     "name": "stdout",
     "output_type": "stream",
     "text": [
      "shoes/boots\n"
     ]
    }
   ],
   "source": [
    "url = \"https://www.madewell.com/womens/\"\n",
    "folder_name = \"Madewell_Womens\"\n",
    "\n",
    "women_product_categories = [\"clothing/jackets-coats\", \n",
    "                            \"clothing/dresses\", \n",
    "                            \"clothing/tops-shirts\", \n",
    "                            \"accessories/bags\", \n",
    "                            \"shoes/sneakers\", \n",
    "                           \"clothing/pants\",\n",
    "                           \"shoes/sandals\", \n",
    "                           \"clothing/tees\", \n",
    "                           \"clothing/sweaters\",\n",
    "                           \"shoes/boots\"]\n",
    "\n",
    "for cat in women_product_categories:\n",
    "    try:\n",
    "        pull_madewell_images(url, cat, folder_name)\n",
    "    except:\n",
    "        print(cat)\n",
    "        continue"
   ]
  },
  {
   "cell_type": "code",
   "execution_count": 38,
   "metadata": {},
   "outputs": [],
   "source": [
    "url = \"https://www.madewell.com/womens/\"\n",
    "folder_name = \"Madewell_Womens\"\n",
    "\n",
    "cat = \"shoes/boots\"\n",
    "try:\n",
    "    pull_madewell_images(url, cat, folder_name)\n",
    "except:\n",
    "    print(cat)"
   ]
  },
  {
   "cell_type": "code",
   "execution_count": 39,
   "metadata": {},
   "outputs": [],
   "source": [
    "url = \"https://www.madewell.com/mens/\"\n",
    "folder_name = \"Madewell_Mens\"\n",
    "\n",
    "mens_product_categories = [\"clothing/jackets\", \n",
    "                            \"clothing/shirts\", \n",
    "                            \"shoes/sneakers\", \n",
    "                           \"clothing/pants\",\n",
    "                           \"clothing/tees\", \n",
    "                           \"clothing/sweaters\",\n",
    "                           \"shoes/boots\"]\n",
    "\n",
    "for cat in mens_product_categories:\n",
    "    try:\n",
    "        pull_madewell_images(url, cat, folder_name)\n",
    "    except:\n",
    "        print(cat)\n",
    "        continue"
   ]
  },
  {
   "cell_type": "markdown",
   "metadata": {},
   "source": [
    "## Forever21"
   ]
  },
  {
   "cell_type": "code",
   "execution_count": 73,
   "metadata": {},
   "outputs": [],
   "source": [
    "def pull_f21_images(url, product_category, folder_name, show=False):\n",
    "    file_path = \"./final_project/\"\n",
    "    base_path = file_path + folder_name + \"/\"\n",
    "    category_path = os.path.join(base_path, f'{product_category}')\n",
    "    os.makedirs(category_path, exist_ok=True)\n",
    "    \n",
    "    response = requests.get(f\"{url}{product_category}\")\n",
    "    soup = bs4.BeautifulSoup(response.text, 'html.parser')\n",
    "\n",
    "\n",
    "    links = []\n",
    "    for i in soup.find_all(\"img\"):\n",
    "        if \"image\" in str(i.get(\"data-src\")):\n",
    "            links.append(i.get(\"data-src\"))\n",
    "\n",
    "    for i in links:\n",
    "        img = Image.open(requests.get(i, stream = True).raw)\n",
    "        product_name = get_madewell_product_name_id(i)\n",
    "        if show:\n",
    "            print(product_name)\n",
    "            display(img)\n",
    "        try:\n",
    "            img.save(f'{category_path}/{product_name}.jpg')\n",
    "        except:\n",
    "            print('x')\n",
    "            continue\n",
    "            \n",
    "            \n",
    "def get_f21_product_name_id(link):\n",
    "    l = link.split(\"/\")\n",
    "    return l[l.index(\"default\")+1]\n"
   ]
  },
  {
   "cell_type": "code",
   "execution_count": 75,
   "metadata": {},
   "outputs": [
    {
     "name": "stdout",
     "output_type": "stream",
     "text": [
      "bottoms\n"
     ]
    }
   ],
   "source": [
    "url = \"https://www.forever21.com/us/shop/catalog/category/f21/\"\n",
    "folder_name = \"Forever21_Womens\"\n",
    "\n",
    "women_product_categories = [\"outerwear_coats-and-jackets\", \n",
    "                            \"dress\", \n",
    "                            \"top_blouses\", \n",
    "                            \"acc_handbags\", \n",
    "                            \"shoes_sneakers\", \n",
    "                           \"bottoms\",\n",
    "                           \"shoes_sandals\", \n",
    "                           \"sweater\",\n",
    "                           \"shoes_boots\"]\n",
    "\n",
    "for cat in women_product_categories:\n",
    "    try:\n",
    "        pull_f21_images(url, cat, folder_name)\n",
    "    except:\n",
    "        print(cat)\n",
    "        continue"
   ]
  },
  {
   "cell_type": "markdown",
   "metadata": {},
   "source": [
    "## Francesca's"
   ]
  },
  {
   "cell_type": "code",
   "execution_count": 154,
   "metadata": {},
   "outputs": [],
   "source": [
    "def pull_francesca_images(url, product_category, folder_name, show=False):\n",
    "    file_path = \"./final_project/\"\n",
    "    base_path = file_path + folder_name + \"/\"\n",
    "    category_path = os.path.join(base_path, f'{product_category}')\n",
    "    os.makedirs(category_path, exist_ok=True)\n",
    "    \n",
    "    response = requests.get(f\"{url}{product_category}\")\n",
    "    soup = bs4.BeautifulSoup(response.text, 'html.parser')\n",
    "\n",
    "    links = []\n",
    "    for i in soup.find_all(\"img\"):\n",
    "        if \"https://\" in str(i.get(\"src\")):\n",
    "            links.append(i.get(\"src\"))\n",
    "\n",
    "    for i in links:\n",
    "        img = Image.open(requests.get(i, stream = True).raw)\n",
    "        product_name = get_francesca_product_name_id(i)\n",
    "        if show:\n",
    "            print(product_name)\n",
    "            display(img)\n",
    "        try:\n",
    "            img.save(f'{category_path}/{product_name}.jpg')\n",
    "        except:\n",
    "            print('x')\n",
    "            continue\n",
    "            \n",
    "            \n",
    "def get_francesca_product_name_id(link):\n",
    "    return str(link).split(\"/\")[-1][:10]\n"
   ]
  },
  {
   "cell_type": "code",
   "execution_count": 155,
   "metadata": {},
   "outputs": [
    {
     "name": "stdout",
     "output_type": "stream",
     "text": [
      "tops/blouses.do\n",
      "clothing/jackets-cardigans.doshoes/sneakers.do\n"
     ]
    }
   ],
   "source": [
    "url = \"https://www.francescas.com/category/\"\n",
    "women_product_categories = [\"dresses.do\", \n",
    "                            \"tops/blouses.do\", \n",
    "                            \"tops/sweaters.do\", \n",
    "                           \"tops/graphic-tee-shop.do\",\n",
    "                           \"shoes/sandals.do\", \n",
    "                           \"shoes/boots.do\",\n",
    "                           \"accessories/handbags.do\",\n",
    "                            \"clothing/pants.do\",\n",
    "                            \"clothing/jackets-cardigans.do\",\n",
    "                            \"shoes/sneakers.do\"]\n",
    "folder_name = \"Francescas\"\n",
    "\n",
    "\n",
    "for cat in women_product_categories:\n",
    "    try:\n",
    "        pull_francesca_images(url, cat, folder_name)\n",
    "    except:\n",
    "        print(cat)\n",
    "        continue"
   ]
  },
  {
   "cell_type": "markdown",
   "metadata": {},
   "source": [
    "## New Store"
   ]
  },
  {
   "cell_type": "code",
   "execution_count": 225,
   "metadata": {},
   "outputs": [],
   "source": [
    "# Ralph Lauren"
   ]
  },
  {
   "cell_type": "code",
   "execution_count": null,
   "metadata": {},
   "outputs": [],
   "source": []
  }
 ],
 "metadata": {
  "kernelspec": {
   "display_name": "Python 3",
   "language": "python",
   "name": "python3"
  },
  "language_info": {
   "codemirror_mode": {
    "name": "ipython",
    "version": 3
   },
   "file_extension": ".py",
   "mimetype": "text/x-python",
   "name": "python",
   "nbconvert_exporter": "python",
   "pygments_lexer": "ipython3",
   "version": "3.7.6"
  }
 },
 "nbformat": 4,
 "nbformat_minor": 4
}
